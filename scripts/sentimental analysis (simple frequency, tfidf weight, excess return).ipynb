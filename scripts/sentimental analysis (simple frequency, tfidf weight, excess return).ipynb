{
 "cells": [
  {
   "cell_type": "code",
   "execution_count": 2,
   "id": "49b331c0",
   "metadata": {},
   "outputs": [],
   "source": [
    "from pathlib import Path\n",
    "from bs4 import BeautifulSoup\n",
    "\n",
    "from nltk.probability import FreqDist\n",
    "from nltk import word_tokenize\n",
    "\n",
    "from nltk.stem import WordNetLemmatizer\n",
    "from nltk.corpus import wordnet\n",
    "import re\n",
    "import numpy as np\n",
    "\n",
    "from collections import defaultdict, Counter\n",
    "from sklearn.feature_extraction.text import CountVectorizer\n",
    "\n",
    "from nltk.corpus import stopwords\n",
    "\n",
    "from sklearn.feature_extraction.text import TfidfVectorizer\n",
    "\n",
    "import glob\n",
    "import os\n",
    "import pandas as pd\n",
    "from datetime import datetime"
   ]
  },
  {
   "cell_type": "code",
   "execution_count": 3,
   "id": "66cc0f53",
   "metadata": {
    "scrolled": true
   },
   "outputs": [],
   "source": [
    "stock = pd.read_csv(\"stock.csv\",dtype = {'cik': str})\n",
    "stock['datadate']=pd.to_datetime(stock['datadate'],format='%Y%m%d')\n",
    "spx = pd.read_csv(\"spx.csv\")\n",
    "spx['caldt']=pd.to_datetime(spx['caldt'],format='%Y%m%d')"
   ]
  },
  {
   "cell_type": "code",
   "execution_count": 4,
   "id": "0a89ff4b",
   "metadata": {},
   "outputs": [],
   "source": [
    "stock_new = pd.DataFrame(data = {'date':stock['datadate'],'cik':stock['cik'],\n",
    "                     'stock':-stock.groupby(['cik'])['prccd'].diff(-4)/stock['prccd']})\n",
    "spx_ret = ((spx['vwretd']+1)*(spx['vwretd']+1).shift(1)*(spx['vwretd']+1).shift(2)-1).shift(-3)\n",
    "spx_new = pd.DataFrame(data = {'date':spx['caldt'], 'index':spx_ret})"
   ]
  },
  {
   "cell_type": "code",
   "execution_count": 5,
   "id": "9e280414",
   "metadata": {},
   "outputs": [],
   "source": [
    "ex_ret = stock_new.merge(spx_new, on = 'date').dropna().sort_values(by=['cik','date'])\n",
    "ex_ret['ret'] = ex_ret['stock']-ex_ret['index']"
   ]
  },
  {
   "cell_type": "code",
   "execution_count": 6,
   "id": "39bcaead",
   "metadata": {},
   "outputs": [],
   "source": [
    "# define dict\n",
    "\n",
    "with open('fin_neg.txt', 'r') as f:\n",
    "    fin_neg = [line.strip().lower() for line in f]\n",
    "    \n",
    "with open('h4n_inf.txt', 'r') as f:\n",
    "    h4n_inf = [line.strip().lower() for line in f]\n",
    "\n",
    "os.chdir(r'data')"
   ]
  },
  {
   "cell_type": "code",
   "execution_count": 7,
   "id": "b9848938",
   "metadata": {},
   "outputs": [],
   "source": [
    "data_file_list = glob.glob('*.txt')"
   ]
  },
  {
   "cell_type": "code",
   "execution_count": 8,
   "id": "e37ae894",
   "metadata": {},
   "outputs": [],
   "source": [
    "# create function\n",
    "def lemmatize_words(words):\n",
    "    \n",
    "    lemmatized_words = [WordNetLemmatizer().lemmatize(word, 'v') for word in words]\n",
    "    \n",
    "    return lemmatized_words"
   ]
  },
  {
   "cell_type": "code",
   "execution_count": 9,
   "id": "4bfa5a4e",
   "metadata": {},
   "outputs": [],
   "source": [
    "def get_freq(path, Dict):\n",
    "    \n",
    "    path_sep = path.replace('.','-').split('-')\n",
    "    text = Path(path).read_text(encoding=\"utf8\").lower()\n",
    "    word_pattern = re.compile('\\w+')\n",
    "    text_lem = lemmatize_words(word_pattern.findall(text))\n",
    "    lemma_english_stopwords = lemmatize_words(stopwords.words('english'))\n",
    "    ten_k = [word for word in text_lem if word not in lemma_english_stopwords]\n",
    "    fdist = FreqDist()\n",
    "    for word in ten_k:\n",
    "        fdist[word] += 1\n",
    "    freq = sum([fdist[x] for x in Dict])/len(ten_k)\n",
    "\n",
    "    return freq"
   ]
  },
  {
   "cell_type": "code",
   "execution_count": 10,
   "id": "040a2e6a",
   "metadata": {},
   "outputs": [],
   "source": [
    "def get_return(path):\n",
    "    \n",
    "    path_sep = path.replace('.','-').split('-')\n",
    "    cik = path_sep[1]\n",
    "    yyyy = int(path_sep[2])\n",
    "    mm = int(path_sep[3])\n",
    "    dd = int(path_sep[4])\n",
    "    cik_ret = ex_ret[ex_ret['cik']==cik].drop_duplicates(subset=['date']).set_index('date')\n",
    "    ret = cik_ret.iloc[cik_ret.index.get_loc(datetime(yyyy,mm,dd), method='bfill')][3]\n",
    "    \n",
    "    return ret"
   ]
  },
  {
   "cell_type": "code",
   "execution_count": 117,
   "id": "4e23cb14",
   "metadata": {},
   "outputs": [],
   "source": [
    "def get_tfidf(Dict, docs):\n",
    "    \n",
    "    vec = TfidfVectorizer(vocabulary=Dict)\n",
    "    print(\".\")\n",
    "    tfidf = vec.fit_transform(docs)\n",
    "    \n",
    "    return tfidf.toarray()"
   ]
  },
  {
   "cell_type": "code",
   "execution_count": 12,
   "id": "165169e2",
   "metadata": {},
   "outputs": [
    {
     "data": {
      "text/html": [
       "<div>\n",
       "<style scoped>\n",
       "    .dataframe tbody tr th:only-of-type {\n",
       "        vertical-align: middle;\n",
       "    }\n",
       "\n",
       "    .dataframe tbody tr th {\n",
       "        vertical-align: top;\n",
       "    }\n",
       "\n",
       "    .dataframe thead th {\n",
       "        text-align: right;\n",
       "    }\n",
       "</style>\n",
       "<table border=\"1\" class=\"dataframe\">\n",
       "  <thead>\n",
       "    <tr style=\"text-align: right;\">\n",
       "      <th></th>\n",
       "      <th>cik</th>\n",
       "      <th>stock</th>\n",
       "      <th>index</th>\n",
       "      <th>ret</th>\n",
       "    </tr>\n",
       "    <tr>\n",
       "      <th>date</th>\n",
       "      <th></th>\n",
       "      <th></th>\n",
       "      <th></th>\n",
       "      <th></th>\n",
       "    </tr>\n",
       "  </thead>\n",
       "  <tbody>\n",
       "    <tr>\n",
       "      <th>2016-01-04</th>\n",
       "      <td>0000014693</td>\n",
       "      <td>-0.018825</td>\n",
       "      <td>-0.033652</td>\n",
       "      <td>0.014826</td>\n",
       "    </tr>\n",
       "    <tr>\n",
       "      <th>2016-01-04</th>\n",
       "      <td>0000014693</td>\n",
       "      <td>-0.015962</td>\n",
       "      <td>-0.033652</td>\n",
       "      <td>0.017690</td>\n",
       "    </tr>\n",
       "    <tr>\n",
       "      <th>2016-01-05</th>\n",
       "      <td>0000014693</td>\n",
       "      <td>-0.040099</td>\n",
       "      <td>-0.046213</td>\n",
       "      <td>0.006115</td>\n",
       "    </tr>\n",
       "    <tr>\n",
       "      <th>2016-01-05</th>\n",
       "      <td>0000014693</td>\n",
       "      <td>-0.029348</td>\n",
       "      <td>-0.046213</td>\n",
       "      <td>0.016865</td>\n",
       "    </tr>\n",
       "    <tr>\n",
       "      <th>2016-01-06</th>\n",
       "      <td>0000014693</td>\n",
       "      <td>-0.024638</td>\n",
       "      <td>-0.033057</td>\n",
       "      <td>0.008418</td>\n",
       "    </tr>\n",
       "    <tr>\n",
       "      <th>...</th>\n",
       "      <td>...</td>\n",
       "      <td>...</td>\n",
       "      <td>...</td>\n",
       "      <td>...</td>\n",
       "    </tr>\n",
       "    <tr>\n",
       "      <th>2021-12-23</th>\n",
       "      <td>0000014693</td>\n",
       "      <td>0.001497</td>\n",
       "      <td>0.013945</td>\n",
       "      <td>-0.012448</td>\n",
       "    </tr>\n",
       "    <tr>\n",
       "      <th>2021-12-27</th>\n",
       "      <td>0000014693</td>\n",
       "      <td>0.004994</td>\n",
       "      <td>-0.002656</td>\n",
       "      <td>0.007650</td>\n",
       "    </tr>\n",
       "    <tr>\n",
       "      <th>2021-12-27</th>\n",
       "      <td>0000014693</td>\n",
       "      <td>0.008511</td>\n",
       "      <td>-0.002656</td>\n",
       "      <td>0.011167</td>\n",
       "    </tr>\n",
       "    <tr>\n",
       "      <th>2021-12-28</th>\n",
       "      <td>0000014693</td>\n",
       "      <td>0.004997</td>\n",
       "      <td>-0.004279</td>\n",
       "      <td>0.009277</td>\n",
       "    </tr>\n",
       "    <tr>\n",
       "      <th>2021-12-28</th>\n",
       "      <td>0000014693</td>\n",
       "      <td>0.014649</td>\n",
       "      <td>-0.004279</td>\n",
       "      <td>0.018928</td>\n",
       "    </tr>\n",
       "  </tbody>\n",
       "</table>\n",
       "<p>3016 rows × 4 columns</p>\n",
       "</div>"
      ],
      "text/plain": [
       "                   cik     stock     index       ret\n",
       "date                                                \n",
       "2016-01-04  0000014693 -0.018825 -0.033652  0.014826\n",
       "2016-01-04  0000014693 -0.015962 -0.033652  0.017690\n",
       "2016-01-05  0000014693 -0.040099 -0.046213  0.006115\n",
       "2016-01-05  0000014693 -0.029348 -0.046213  0.016865\n",
       "2016-01-06  0000014693 -0.024638 -0.033057  0.008418\n",
       "...                ...       ...       ...       ...\n",
       "2021-12-23  0000014693  0.001497  0.013945 -0.012448\n",
       "2021-12-27  0000014693  0.004994 -0.002656  0.007650\n",
       "2021-12-27  0000014693  0.008511 -0.002656  0.011167\n",
       "2021-12-28  0000014693  0.004997 -0.004279  0.009277\n",
       "2021-12-28  0000014693  0.014649 -0.004279  0.018928\n",
       "\n",
       "[3016 rows x 4 columns]"
      ]
     },
     "execution_count": 12,
     "metadata": {},
     "output_type": "execute_result"
    }
   ],
   "source": [
    "cik_ret = ex_ret[ex_ret['cik']=='0000014693'].set_index('date')\n",
    "cik_ret.loc[cik_ret.index.drop_duplicates(keep='first')]"
   ]
  },
  {
   "cell_type": "code",
   "execution_count": 47,
   "id": "ea7e52ae",
   "metadata": {},
   "outputs": [
    {
     "name": "stderr",
     "output_type": "stream",
     "text": [
      "  0%|          | 0/10842 [00:00<?, ?it/s]C:\\Users\\yiyan\\AppData\\Local\\Temp\\ipykernel_13216\\1519286417.py:9: FutureWarning: Passing method to DatetimeIndex.get_loc is deprecated and will raise in a future version. Use index.get_indexer([item], method=...) instead.\n",
      "  ret = cik_ret.iloc[cik_ret.index.get_loc(datetime(yyyy,mm,dd), method='bfill')][3]\n",
      "100%|██████████| 10842/10842 [59:51<00:00,  3.02it/s] \n"
     ]
    }
   ],
   "source": [
    "from tqdm import tqdm\n",
    "\n",
    "df = pd.DataFrame(data={'name':[], 'fin neg freq':[], 'h4n inf freq':[], 'return':[]})\n",
    "freqs_fin_neg = list()\n",
    "freqs_h4n_inf = list()\n",
    "rets = list()\n",
    "\n",
    "i = 0\n",
    "for path in tqdm(data_file_list):\n",
    "    i += 1\n",
    "    try:\n",
    "        add = pd.DataFrame(data = {'name':[data_file_list[i]], 'fin neg freq':[get_freq(path, fin_neg)], 'h4n inf freq':[get_freq(path, h4n_inf)], 'return':[get_return(path)]})\n",
    "        df = pd.concat([df,add], ignore_index=True)\n",
    "    except:\n",
    "        pass"
   ]
  },
  {
   "cell_type": "code",
   "execution_count": 77,
   "id": "88e24e88",
   "metadata": {},
   "outputs": [],
   "source": [
    "fin_neg_qt = np.quantile(df['fin neg freq'],[0,.2,.4,.6,.8,1])\n",
    "h4n_inf_qt = np.quantile(df['h4n inf freq'],[0,.2,.4,.6,.8,1])\n",
    "\n",
    "fin_ret_mean = list()\n",
    "h4n_ret_mean = list()\n",
    "\n",
    "\n",
    "for i in range(5):\n",
    "    mean1 = np.mean(df[(df['fin neg freq']<fin_neg_qt[i+1]) & (df['fin neg freq']>=fin_neg_qt[i])]['return'])\n",
    "    mean2 = np.mean(df[(df['h4n inf freq']<h4n_inf_qt[i+1]) & (df['h4n inf freq']>=h4n_inf_qt[i])]['return'])\n",
    "    fin_ret_mean.append(mean1)\n",
    "    h4n_ret_mean.append(mean2)"
   ]
  },
  {
   "cell_type": "code",
   "execution_count": 54,
   "id": "94b4d79e",
   "metadata": {},
   "outputs": [
    {
     "data": {
      "text/plain": [
       "(10804, 4)"
      ]
     },
     "execution_count": 54,
     "metadata": {},
     "output_type": "execute_result"
    }
   ],
   "source": [
    "df.dropna().shape"
   ]
  },
  {
   "cell_type": "code",
   "execution_count": 193,
   "id": "0a25b6d3",
   "metadata": {},
   "outputs": [
    {
     "data": {
      "image/png": "[encoded data removed]",
      "text/plain": [
       "<Figure size 432x288 with 1 Axes>"
      ]
     },
     "metadata": {
      "needs_background": "light"
     },
     "output_type": "display_data"
    }
   ],
   "source": [
    "import matplotlib.pyplot as plt\n",
    "plt.plot(fin_ret_mean, 'k', label='Fin-Neg')\n",
    "plt.plot(h4n_ret_mean, '--k', alpha = 0.5, label = 'H4N-Inf')\n",
    "plt.legend()\n",
    "plt.xticks(np.arange(5), ['Low', '2', '3', '4', 'High'])\n",
    "plt.title('excess return by quintile for proportion of Fin-Neg and H4N-Inf in 10-K/Q')\n",
    "plt.savefig('1',dpi=200)\n",
    "plt.show()"
   ]
  },
  {
   "cell_type": "code",
   "execution_count": 169,
   "id": "da9bfbf8",
   "metadata": {},
   "outputs": [],
   "source": [
    "def get_tfidf_score(Dict):\n",
    "    docs = list()\n",
    "    for path in tqdm(data_file_list):\n",
    "         text = Path(path).read_text(encoding=\"utf8\").lower()\n",
    "         docs.append(text)\n",
    "\n",
    "    dict_df = pd.read_csv('dict.csv')\n",
    "\n",
    "    dict_all = dict_df['Word'].to_numpy()\n",
    "\n",
    "    for i in range(len(dict_all)):\n",
    "        dict_all[i] = str(dict_all[i]).lower()\n",
    "\n",
    "    tfidf = get_tfidf(dict_all, docs)\n",
    "\n",
    "    mask_fin_neg = np.isin(dict_all,Dict)\n",
    "\n",
    "    tf_sum = np.sum(tfidf,axis=1)\n",
    "    tfidf_score = np.matmul(tfidf,mask_fin_neg)/tf_sum\n",
    "    return tfidf_score"
   ]
  },
  {
   "cell_type": "code",
   "execution_count": 171,
   "id": "3121606e",
   "metadata": {},
   "outputs": [
    {
     "name": "stderr",
     "output_type": "stream",
     "text": [
      "100%|██████████| 10842/10842 [00:42<00:00, 254.75it/s]\n"
     ]
    },
    {
     "name": "stdout",
     "output_type": "stream",
     "text": [
      ".\n"
     ]
    }
   ],
   "source": [
    "tfidf_score_fin_neg = get_tfidf_score(fin_neg)"
   ]
  },
  {
   "cell_type": "code",
   "execution_count": 174,
   "id": "cfdb485d",
   "metadata": {},
   "outputs": [
    {
     "name": "stderr",
     "output_type": "stream",
     "text": [
      "100%|██████████| 10842/10842 [00:54<00:00, 200.44it/s]\n"
     ]
    },
    {
     "name": "stdout",
     "output_type": "stream",
     "text": [
      ".\n"
     ]
    }
   ],
   "source": [
    "tfidf_score_h4n_inf = get_tfidf_score(h4n_inf)"
   ]
  },
  {
   "cell_type": "code",
   "execution_count": 175,
   "id": "553754f9",
   "metadata": {},
   "outputs": [
    {
     "name": "stderr",
     "output_type": "stream",
     "text": [
      "  0%|          | 0/10842 [00:00<?, ?it/s]C:\\Users\\yiyan\\AppData\\Local\\Temp\\ipykernel_13216\\1519286417.py:9: FutureWarning: Passing method to DatetimeIndex.get_loc is deprecated and will raise in a future version. Use index.get_indexer([item], method=...) instead.\n",
      "  ret = cik_ret.iloc[cik_ret.index.get_loc(datetime(yyyy,mm,dd), method='bfill')][3]\n",
      "100%|██████████| 10842/10842 [07:56<00:00, 22.76it/s]\n"
     ]
    }
   ],
   "source": [
    "from tqdm import tqdm\n",
    "\n",
    "df_tfidf = pd.DataFrame(data={'name':[], 'fin neg freq':[], 'h4n inf freq':[], 'return':[]})\n",
    "\n",
    "i = 0\n",
    "for path in tqdm(data_file_list):\n",
    "    i += 1\n",
    "    try:\n",
    "        add = pd.DataFrame(data = {'name':[data_file_list[i]], 'fin neg freq':tfidf_score_fin_neg[i], \n",
    "                                   'h4n inf freq':tfidf_score_h4n_inf[i], 'return':[get_return(path)]})\n",
    "        df_tfidf = pd.concat([df_tfidf,add], ignore_index=True)\n",
    "    except:\n",
    "        pass"
   ]
  },
  {
   "cell_type": "code",
   "execution_count": 185,
   "id": "2ea38e06",
   "metadata": {},
   "outputs": [],
   "source": [
    "fin_neg_qt_tfidf = np.quantile(tfidf_score_fin_neg,[0,.2,.4,.6,.8,1])\n",
    "h4n_inf_qt_tfidf = np.quantile(tfidf_score_h4n_inf,[0,.2,.4,.6,.8,1])\n",
    "\n",
    "fin_ret_mean_tfidf = list()\n",
    "h4n_ret_mean_tfidf = list()\n",
    "\n",
    "\n",
    "for i in range(5):\n",
    "    mean1 = np.mean(df_tfidf[(df_tfidf['fin neg freq']<fin_neg_qt_tfidf[i+1]) & (df_tfidf['fin neg freq']>=fin_neg_qt_tfidf[i])]['return'])\n",
    "    mean2 = np.mean(df_tfidf[(df_tfidf['h4n inf freq']<h4n_inf_qt_tfidf[i+1]) & (df_tfidf['h4n inf freq']>=h4n_inf_qt_tfidf[i])]['return'])\n",
    "    fin_ret_mean_tfidf.append(mean1)\n",
    "    h4n_ret_mean_tfidf.append(mean2)"
   ]
  },
  {
   "cell_type": "code",
   "execution_count": 192,
   "id": "4938f3cf",
   "metadata": {
    "scrolled": false
   },
   "outputs": [
    {
     "data": {
      "image/png": "[encoded data removed]",
      "text/plain": [
       "<Figure size 432x288 with 1 Axes>"
      ]
     },
     "metadata": {
      "needs_background": "light"
     },
     "output_type": "display_data"
    }
   ],
   "source": [
    "plt.plot(fin_ret_mean_tfidf, 'k', label='Fin-Neg')\n",
    "plt.plot(h4n_ret_mean_tfidf, '--k', alpha = 0.5, label = 'H4N-Inf')\n",
    "plt.legend()\n",
    "plt.xticks(np.arange(5), ['Low', '2', '3', '4', 'High'])\n",
    "plt.title('excess return by quintile for tf-idf of Fin-Neg and H4N-Inf in 10-K/Q')\n",
    "plt.savefig('2',dpi=200)\n",
    "plt.show()"
   ]
  },
  {
   "cell_type": "code",
   "execution_count": null,
   "id": "33776ca7",
   "metadata": {},
   "outputs": [],
   "source": []
  }
 ],
 "metadata": {
  "kernelspec": {
   "display_name": "Python 3 (ipykernel)",
   "language": "python",
   "name": "python3"
  },
  "language_info": {
   "codemirror_mode": {
    "name": "ipython",
    "version": 3
   },
   "file_extension": ".py",
   "mimetype": "text/x-python",
   "name": "python",
   "nbconvert_exporter": "python",
   "pygments_lexer": "ipython3",
   "version": "3.9.12"
  }
 },
 "nbformat": 4,
 "nbformat_minor": 5
}
